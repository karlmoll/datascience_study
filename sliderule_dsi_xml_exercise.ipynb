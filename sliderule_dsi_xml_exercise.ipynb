{
 "cells": [
  {
   "cell_type": "markdown",
   "metadata": {},
   "source": [
    "# XML example and exercise\n",
    "****\n",
    "+ study examples of accessing nodes in XML tree structure  \n",
    "+ work on exercise to be completed and submitted\n",
    "****\n",
    "+ reference: https://docs.python.org/2.7/library/xml.etree.elementtree.html\n",
    "+ data source: http://www.dbis.informatik.uni-goettingen.de/Mondial\n",
    "****"
   ]
  },
  {
   "cell_type": "code",
   "execution_count": 85,
   "metadata": {
    "collapsed": true
   },
   "outputs": [],
   "source": [
    "from xml.etree import ElementTree as ET\n",
    "from collections import Counter"
   ]
  },
  {
   "cell_type": "markdown",
   "metadata": {},
   "source": [
    "## XML example\n",
    "\n",
    "+ for details about tree traversal and iterators, see https://docs.python.org/2.7/library/xml.etree.elementtree.html"
   ]
  },
  {
   "cell_type": "code",
   "execution_count": 3,
   "metadata": {
    "collapsed": true
   },
   "outputs": [],
   "source": [
    "document_tree = ET.parse( './data/mondial_database_less.xml' )"
   ]
  },
  {
   "cell_type": "code",
   "execution_count": 4,
   "metadata": {
    "collapsed": false
   },
   "outputs": [
    {
     "name": "stdout",
     "output_type": "stream",
     "text": [
      "Albania\n",
      "Greece\n",
      "Macedonia\n",
      "Serbia\n",
      "Montenegro\n",
      "Kosovo\n",
      "Andorra\n"
     ]
    }
   ],
   "source": [
    "# print names of all countries\n",
    "for child in document_tree.getroot():\n",
    "    print child.find('name').text"
   ]
  },
  {
   "cell_type": "code",
   "execution_count": 5,
   "metadata": {
    "collapsed": false,
    "scrolled": true
   },
   "outputs": [
    {
     "name": "stdout",
     "output_type": "stream",
     "text": [
      "* Albania: Tirana, Shkodër, Durrës, Vlorë, Elbasan, Korçë\n",
      "* Greece: Komotini, Kavala, Athina, Peiraias, Peristeri, Acharnes, Patra, Kozani, Kerkyra, Ioannina, Thessaloniki, Iraklio, Chania, Ermoupoli, Rhodes, Tripoli, Lamia, Chalkida, Larissa, Volos, Mytilini, Karyes\n",
      "* Macedonia: Skopje, Kumanovo\n",
      "* Serbia: Beograd, Novi Sad, Niš\n",
      "* Montenegro: Podgorica\n",
      "* Kosovo: Prishtine\n",
      "* Andorra: Andorra la Vella\n"
     ]
    }
   ],
   "source": [
    "# print names of all countries and their cities\n",
    "for element in document_tree.iterfind('country'):\n",
    "    print '* ' + element.find('name').text + ':',\n",
    "    capitals_string = ''\n",
    "    for subelement in element.getiterator('city'):\n",
    "        capitals_string += subelement.find('name').text + ', '\n",
    "    print capitals_string[:-2]"
   ]
  },
  {
   "cell_type": "markdown",
   "metadata": {},
   "source": [
    "****\n",
    "## XML exercise\n",
    "\n",
    "Using data in 'data/mondial_database.xml', the examples above, and refering to https://docs.python.org/2.7/library/xml.etree.elementtree.html, find\n",
    "\n",
    "1. 10 countries with the lowest infant mortality rates\n",
    "2. 10 cities with the largest population\n",
    "3. 10 ethnic groups with the largest overall populations (sum of best/latest estimates over all countries)\n",
    "4. name and country of a) longest river, b) largest lake and c) airport at highest elevation"
   ]
  },
  {
   "cell_type": "code",
   "execution_count": 6,
   "metadata": {
    "collapsed": true
   },
   "outputs": [],
   "source": [
    "document = ET.parse( './data/mondial_database.xml' )"
   ]
  },
  {
   "cell_type": "code",
   "execution_count": 154,
   "metadata": {
    "collapsed": false
   },
   "outputs": [
    {
     "name": "stdout",
     "output_type": "stream",
     "text": [
      "{'Afghanistan': 117.23, 'Angola': 79.99, 'Chad': 90.3, 'Western Sahara': 145.82, 'Central African Republic': 92.86, 'Somalia': 100.14, 'Guinea-Bissau': 90.92, 'Mali': 104.34, 'Niger': 86.27, 'Burkina Faso': 76.8}\n"
     ]
    }
   ],
   "source": [
    "#top ten highest infant mortality rates by country\n",
    "def top_mort(document):\n",
    "    mort_rates = {}\n",
    "    for element in document.getroot().iterfind('country'):\n",
    "        if element.find('infant_mortality') is not None:\n",
    "             mort_rates[element.find('name').text] = float(element.find('infant_mortality').text)\n",
    "    #imported python Counter module for ease in finding top values\n",
    "    #will use counter for rest of assignment\n",
    "    print dict(Counter(mort_rates).most_common(10))\n",
    "\n",
    "top_mort(document)\n"
   ]
  },
  {
   "cell_type": "code",
   "execution_count": null,
   "metadata": {
    "collapsed": false,
    "scrolled": false
   },
   "outputs": [],
   "source": []
  },
  {
   "cell_type": "code",
   "execution_count": null,
   "metadata": {
    "collapsed": true
   },
   "outputs": [],
   "source": []
  },
  {
   "cell_type": "code",
   "execution_count": null,
   "metadata": {
    "collapsed": false
   },
   "outputs": [],
   "source": []
  },
  {
   "cell_type": "code",
   "execution_count": 153,
   "metadata": {
    "collapsed": false
   },
   "outputs": [
    {
     "name": "stdout",
     "output_type": "stream",
     "text": [
      "{u'S\\xe3o Paulo': 11152344, 'Guangzhou': 11071424, 'Istanbul': 13710512, 'Beijing': 11716620, 'Tianjin': 11090314, 'Shanghai': 22315474, 'Delhi': 11034555, 'Mumbai': 12442373, 'Shenzhen': 10358381, 'Moskva': 11979529}\n"
     ]
    }
   ],
   "source": [
    "#top ten most populous cities\n",
    "def city_pop(document):\n",
    "    cities = {}\n",
    "    for element in document.iterfind('country'):\n",
    "    #initially i stored the dict {country : {city: population}}, but I decided to just store city pop for ease of computation\n",
    "        for subelement in element.getiterator('city'):\n",
    "            if subelement.find('population') is not None: # and int(subelement.find('population').attrib['year']) > 2000:\n",
    "                #grabbing the last population sub element and setting it for the city name in the dict\n",
    "                cities[subelement.find('name').text] = int(subelement.findall('population')[-1].text)\n",
    "            #discard cities without population values\n",
    "            #else:\n",
    "              #  countries[element.find('name').text][subelement.find('name').text] = 'hi'\n",
    "    print dict(Counter(cities).most_common(10))\n",
    "\n",
    "#could pretty print to chart wnd take care of UTF formatting issues    \n",
    "city_pop(document)"
   ]
  },
  {
   "cell_type": "code",
   "execution_count": 151,
   "metadata": {
    "collapsed": false
   },
   "outputs": [
    {
     "name": "stdout",
     "output_type": "stream",
     "text": [
      "{'Han Chinese': 1245058800.0, 'Japanese': 126534212.0, 'Mestizo': 157734354.93699998, 'Malay': 121993550.374, 'Bengali': 146776916.72, 'African': 318325120.369, 'Russian': 131856996.077, 'Dravidian': 302713744.25, 'Indo-Aryan': 871815583.44, 'European': 494872219.71959996}\n"
     ]
    }
   ],
   "source": [
    "\n",
    "#top ten ethnicities in the world by total population\n",
    "def total_ethnic(document):\n",
    "    total_ethnic = {}\n",
    "    for element in document.iterfind('country'):\n",
    "        population = int(element.findall('population')[-1].text)\n",
    "        #get the percentages for each ethnic group in the population, \n",
    "        #get real numbers from population, add to global dict\n",
    "        for sub in element.getiterator('ethnicgroup'):\n",
    "            if sub.text in total_ethnic:\n",
    "                total_ethnic[sub.text] += (float(sub.attrib['percentage']) * population) / 100.0\n",
    "            else:\n",
    "                total_ethnic[sub.text] = (float(sub.attrib['percentage']) * population) / 100.0\n",
    "    print dict(Counter(total_ethnic).most_common(10))\n",
    "            \n",
    "total_ethnic(document)"
   ]
  },
  {
   "cell_type": "code",
   "execution_count": 150,
   "metadata": {
    "collapsed": false
   },
   "outputs": [
    {
     "name": "stdout",
     "output_type": "stream",
     "text": [
      "(6448.0, 'Amazonas', 'CO BR PE')\n",
      "(386400.0, 'Caspian Sea', 'R AZ KAZ IR TM')\n",
      "(4063.0, 'El Alto Intl', 'BOL')\n"
     ]
    }
   ],
   "source": [
    "def top_attributes(document):\n",
    "    top_river = (0, '')\n",
    "    top_lake = (0, '')\n",
    "    top_airport = (0, '')\n",
    "    for element in document.iterfind('river'):\n",
    "        if element.find('length') is not None and float(element.find('length').text) >= top_river[0]:\n",
    "            top_river = (float(element.find('length').text), element.find('name').text, element.attrib['country'])\n",
    "    print top_river    \n",
    "    for element in document.iterfind('lake'):\n",
    "        if element.find('area') is not None and float(element.find('area').text) >= top_lake[0]:\n",
    "            top_lake = (float(element.find('area').text), element.find('name').text, element.attrib['country'])\n",
    "    print top_lake   \n",
    "    for element in document.iterfind('airport'):\n",
    "        #apparently some elevation tags don't have a text element\n",
    "        if element.find('elevation') is not None and element.find('elevation').text and int(element.find('elevation').text) >= top_airport[0]:\n",
    "            top_airport = (float(element.find('elevation').text), element.find('name').text, element.attrib['country'])\n",
    "    print top_airport\n",
    "    \n",
    "#can pretty print output, but it is (measurement, name, countries) in the output    \n",
    "top_attributes(document)"
   ]
  },
  {
   "cell_type": "code",
   "execution_count": null,
   "metadata": {
    "collapsed": false
   },
   "outputs": [],
   "source": []
  },
  {
   "cell_type": "code",
   "execution_count": null,
   "metadata": {
    "collapsed": true
   },
   "outputs": [],
   "source": []
  }
 ],
 "metadata": {
  "kernelspec": {
   "display_name": "Python 2",
   "language": "python",
   "name": "python2"
  },
  "language_info": {
   "codemirror_mode": {
    "name": "ipython",
    "version": 2
   },
   "file_extension": ".py",
   "mimetype": "text/x-python",
   "name": "python",
   "nbconvert_exporter": "python",
   "pygments_lexer": "ipython2",
   "version": "2.7.13"
  }
 },
 "nbformat": 4,
 "nbformat_minor": 0
}
